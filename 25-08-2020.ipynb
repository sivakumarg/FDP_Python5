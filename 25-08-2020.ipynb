{
 "cells": [
  {
   "cell_type": "markdown",
   "metadata": {},
   "source": [
    "### Good Morning"
   ]
  },
  {
   "cell_type": "markdown",
   "metadata": {},
   "source": [
    "- typecasting\n",
    "- take the values from the user\n",
    "- conditions\n",
    "- iterations\n",
    "- breaking statements"
   ]
  },
  {
   "cell_type": "code",
   "execution_count": 51,
   "metadata": {},
   "outputs": [
    {
     "name": "stdout",
     "output_type": "stream",
     "text": [
      "enter a value68\n",
      "enter b value98\n",
      "166\n"
     ]
    }
   ],
   "source": [
    "a = int(input('enter a value'))\n",
    "b = int(input('enter b value'))\n",
    "print(a+b)"
   ]
  },
  {
   "cell_type": "markdown",
   "metadata": {},
   "source": [
    "Data Types\n",
    " - int\n",
    " - float\n",
    " - string\n",
    " -  boolean\n",
    " - complex"
   ]
  },
  {
   "cell_type": "code",
   "execution_count": 4,
   "metadata": {},
   "outputs": [],
   "source": [
    "a = 1132435465768768899987099999999767656653443"
   ]
  },
  {
   "cell_type": "code",
   "execution_count": 8,
   "metadata": {},
   "outputs": [],
   "source": [
    "f = 12.3446577677778879898909"
   ]
  },
  {
   "cell_type": "code",
   "execution_count": 9,
   "metadata": {},
   "outputs": [
    {
     "data": {
      "text/plain": [
       "float"
      ]
     },
     "execution_count": 9,
     "metadata": {},
     "output_type": "execute_result"
    }
   ],
   "source": [
    "type(f)"
   ]
  },
  {
   "cell_type": "code",
   "execution_count": 10,
   "metadata": {},
   "outputs": [],
   "source": [
    "s = 'hai'"
   ]
  },
  {
   "cell_type": "code",
   "execution_count": 15,
   "metadata": {},
   "outputs": [
    {
     "data": {
      "text/plain": [
       "str"
      ]
     },
     "execution_count": 15,
     "metadata": {},
     "output_type": "execute_result"
    }
   ],
   "source": [
    "type(a)"
   ]
  },
  {
   "cell_type": "code",
   "execution_count": 14,
   "metadata": {},
   "outputs": [],
   "source": [
    "a = False"
   ]
  },
  {
   "cell_type": "code",
   "execution_count": 17,
   "metadata": {},
   "outputs": [],
   "source": [
    "b = complex(10,20)"
   ]
  },
  {
   "cell_type": "code",
   "execution_count": 18,
   "metadata": {},
   "outputs": [
    {
     "data": {
      "text/plain": [
       "(10+20j)"
      ]
     },
     "execution_count": 18,
     "metadata": {},
     "output_type": "execute_result"
    }
   ],
   "source": [
    "# typecasting is to converting one data type to another datatype\n"
   ]
  },
  {
   "cell_type": "code",
   "execution_count": 23,
   "metadata": {},
   "outputs": [
    {
     "name": "stdout",
     "output_type": "stream",
     "text": [
      "<class 'float'> <class 'int'> 10.2333 10\n"
     ]
    }
   ],
   "source": [
    "a = 10.2333\n",
    "b = int(a)\n",
    "print(type(a),type(b),a,b)"
   ]
  },
  {
   "cell_type": "code",
   "execution_count": 24,
   "metadata": {},
   "outputs": [
    {
     "name": "stdout",
     "output_type": "stream",
     "text": [
      "<class 'int'> <class 'str'> 10 10\n"
     ]
    }
   ],
   "source": [
    "a = 10\n",
    "b = str(a)\n",
    "print(type(a),type(b),a,b)"
   ]
  },
  {
   "cell_type": "code",
   "execution_count": 37,
   "metadata": {},
   "outputs": [
    {
     "name": "stdout",
     "output_type": "stream",
     "text": [
      "<class 'str'> <class 'bool'> 0 True\n"
     ]
    }
   ],
   "source": [
    "s = '0'\n",
    "i = bool(s)\n",
    "print(type(s),type(i),s,i)"
   ]
  },
  {
   "cell_type": "code",
   "execution_count": 43,
   "metadata": {},
   "outputs": [
    {
     "name": "stdout",
     "output_type": "stream",
     "text": [
      "<class 'int'> <class 'bool'> 0 False\n"
     ]
    }
   ],
   "source": [
    "a = 0\n",
    "b = bool(a)\n",
    "print(type(a),type(b),a,b)"
   ]
  },
  {
   "cell_type": "code",
   "execution_count": 45,
   "metadata": {},
   "outputs": [
    {
     "name": "stdout",
     "output_type": "stream",
     "text": [
      "<class 'complex'> <class 'str'> (10+20j) (10+20j)\n"
     ]
    }
   ],
   "source": [
    "a = complex(10,20)\n",
    "b = str(a)\n",
    "print(type(a),type(b),a,b)"
   ]
  },
  {
   "cell_type": "code",
   "execution_count": 52,
   "metadata": {},
   "outputs": [],
   "source": [
    "# condition statements\n",
    "# if  if - else, if elseif else, inner loops\n",
    "# if syntax:\n",
    "    # if condition :\n",
    "           # Statements\n",
    "# if -else syntax:\n",
    "   # if condition:\n",
    "        # statements\n",
    "   # else:\n",
    "        # statements\n",
    "# nested  if  syntax:\n",
    "   # if condition:\n",
    "       # statements\n",
    "    #elif condition:\n",
    "       # statements\n",
    "    # else:\n",
    "       # statements\n",
    "# inner loops:\n",
    "  # if condition:\n",
    "       # if condition:\n",
    "          # statements\n",
    "       # else:\n",
    "          # statements\n",
    " # else:\n",
    "   # statements\n",
    "    "
   ]
  },
  {
   "cell_type": "code",
   "execution_count": 62,
   "metadata": {},
   "outputs": [
    {
     "name": "stdout",
     "output_type": "stream",
     "text": [
      "enter n1 value90\n",
      "enter n2 value85\n",
      "in 90 and 85 big value is 90\n"
     ]
    }
   ],
   "source": [
    "n1 = int(input('enter n1 value'))\n",
    "n2 = int(input('enter n2 value'))\n",
    "if n1>n2:\n",
    "    print(\"in {} and {} big value is {}\".format(n1,n2,n1))\n",
    "else:\n",
    "    print(\"in {} and {} big value is {}\".format(n1,n2,n2))"
   ]
  },
  {
   "cell_type": "code",
   "execution_count": 66,
   "metadata": {},
   "outputs": [
    {
     "name": "stdout",
     "output_type": "stream",
     "text": [
      "enter n1 value78\n",
      "enter n2 value98\n",
      "enter n3 value75\n",
      "98\n"
     ]
    }
   ],
   "source": [
    "n1 = int(input('enter n1 value'))\n",
    "n2 = int(input('enter n2 value'))\n",
    "n3 = int(input('enter n3 value'))\n",
    "if n1>n2 and n1>n3:\n",
    "    print(n1)\n",
    "elif n2>n3:\n",
    "    print(n2)\n",
    "else:\n",
    "    print(n3)"
   ]
  },
  {
   "cell_type": "code",
   "execution_count": 63,
   "metadata": {},
   "outputs": [
    {
     "name": "stdout",
     "output_type": "stream",
     "text": [
      "enter nameapssdc\n",
      "enter coursepython programming\n",
      "good morning apssdc and welcome to python programming\n"
     ]
    }
   ],
   "source": [
    "# good morning name  welcome to courseName\n",
    "name = input('enter name')\n",
    "course = input('enter course')\n",
    "print('good morning {} and welcome to {}'.format(name,course))"
   ]
  },
  {
   "cell_type": "code",
   "execution_count": 67,
   "metadata": {},
   "outputs": [],
   "source": [
    "# grading system \n",
    "# marks>=90 and marks<=100 10 \n",
    "# marks>=80 and marks<90 9\n",
    "#  marks>=70 and marks<80 8\n",
    "#  marks>=60 and marks<70 7\n",
    "#  marks>=50 and marks<60 6\n",
    "#  marks>=45 and marks<50 5\n",
    "#  marks>=0 and marks<45 Fail\n",
    "# marks>100 or marks <0 invalid\n"
   ]
  },
  {
   "cell_type": "code",
   "execution_count": 72,
   "metadata": {},
   "outputs": [
    {
     "name": "stdout",
     "output_type": "stream",
     "text": [
      "enter n value14\n",
      "14 is not div by 5\n"
     ]
    }
   ],
   "source": [
    "n = int(input('enter n value'))\n",
    "if n%5 == 0:\n",
    "    if n%7 == 0:\n",
    "        print(n,' is div by 5 and 7')\n",
    "    else:\n",
    "        print(n,\" is div by 5 and not div by 7\")\n",
    "else:\n",
    "    print(n,'is not div by 5')\n"
   ]
  },
  {
   "cell_type": "code",
   "execution_count": 73,
   "metadata": {},
   "outputs": [],
   "source": [
    "# even and odd numbers printing\n",
    "# printing even numbers for a given range"
   ]
  },
  {
   "cell_type": "markdown",
   "metadata": {},
   "source": [
    "### iterations\n",
    "- repetition of same work\n",
    "- for and while\n",
    "- For syntax:\n",
    "   - for(init,condi,incr/decr){\n",
    "   - for variable in range(init,fin,step):\n",
    "        - statements\n",
    "- while syntax:\n",
    "   - while condition:\n",
    "       - statements\n",
    "       - condition change"
   ]
  },
  {
   "cell_type": "code",
   "execution_count": 75,
   "metadata": {},
   "outputs": [
    {
     "name": "stdout",
     "output_type": "stream",
     "text": [
      "good morning\n"
     ]
    }
   ],
   "source": [
    "print('good morning')"
   ]
  },
  {
   "cell_type": "code",
   "execution_count": 82,
   "metadata": {
    "collapsed": true
   },
   "outputs": [
    {
     "name": "stdout",
     "output_type": "stream",
     "text": [
      "1\n",
      "3\n",
      "5\n",
      "7\n",
      "9\n"
     ]
    }
   ],
   "source": [
    "for var in range(1,11,2):\n",
    "    print(var)\n"
   ]
  },
  {
   "cell_type": "code",
   "execution_count": 88,
   "metadata": {},
   "outputs": [
    {
     "name": "stdout",
     "output_type": "stream",
     "text": [
      "10 15 20 25 30 35 40 45 50 55 60 65 70 75 80 85 90 95 100 "
     ]
    }
   ],
   "source": [
    "for i in range(10,101,5):\n",
    "    print(i,end = ' ')"
   ]
  },
  {
   "cell_type": "code",
   "execution_count": 94,
   "metadata": {
    "collapsed": true
   },
   "outputs": [
    {
     "name": "stdout",
     "output_type": "stream",
     "text": [
      "enter table number55\n",
      "enter table length10\n",
      "55 * 1 = 55\n",
      "55 * 2 = 110\n",
      "55 * 3 = 165\n",
      "55 * 4 = 220\n",
      "55 * 5 = 275\n",
      "55 * 6 = 330\n",
      "55 * 7 = 385\n",
      "55 * 8 = 440\n",
      "55 * 9 = 495\n",
      "55 * 10 = 550\n"
     ]
    }
   ],
   "source": [
    "# Table printing\n",
    "t = int(input('enter table number'))\n",
    "l = int(input('enter table length'))\n",
    "for i in range(1,l+1):\n",
    "    print('{} * {} = {}'.format(t,i,t*i))"
   ]
  },
  {
   "cell_type": "code",
   "execution_count": 100,
   "metadata": {},
   "outputs": [
    {
     "name": "stdout",
     "output_type": "stream",
     "text": [
      "Enter a number25\n",
      "1 5 25 31\n"
     ]
    }
   ],
   "source": [
    "# Factors sum \n",
    "s = 0\n",
    "n = int(input('Enter a number'))\n",
    "for i in range(1,n+1):\n",
    "    if n%i == 0:\n",
    "        s+=i # s = s+i\n",
    "        print(i,end = ' ')\n",
    "print(s)\n"
   ]
  },
  {
   "cell_type": "code",
   "execution_count": 103,
   "metadata": {},
   "outputs": [
    {
     "name": "stdout",
     "output_type": "stream",
     "text": [
      "enter number10\n",
      "10 is not a perfect number\n"
     ]
    }
   ],
   "source": [
    "# Perfect number\n",
    "# 6 ==> 1,2,3  6\n",
    "n = int(input('enter number'))\n",
    "s = 0\n",
    "for i in range(1,n):\n",
    "    if n%i == 0:\n",
    "        s+=i# s = s+i\n",
    "if n == s:\n",
    "    print(n,'is perfect number')\n",
    "else:\n",
    "    print(n,'is not a perfect number')"
   ]
  },
  {
   "cell_type": "code",
   "execution_count": 104,
   "metadata": {},
   "outputs": [],
   "source": [
    "# 28 ==> 1, 2, 4, 7,14\n",
    "# prime number\n",
    "# amstrong number\n"
   ]
  },
  {
   "cell_type": "code",
   "execution_count": 106,
   "metadata": {},
   "outputs": [
    {
     "name": "stdout",
     "output_type": "stream",
     "text": [
      "enter number5\n",
      "120\n"
     ]
    }
   ],
   "source": [
    "n = int(input('enter number'))\n",
    "s = 1\n",
    "for i in range(1,n+1):\n",
    "    s*=i#s = s*i\n",
    "print(s)"
   ]
  },
  {
   "cell_type": "code",
   "execution_count": null,
   "metadata": {},
   "outputs": [],
   "source": [
    "n=int(input('enter n value:'))\n",
    "if n>=90 and n<=100:\n",
    "    print('your grade marks:10')\n",
    "    elif n>=80 and n<90:\n",
    "         print('your grade marks:9')\n",
    "            elif n>=80 and n<90:\n",
    "             print('your grade marks:8')\n",
    "            elif n>=70 and n<80:\n",
    "             print('your grade marks:7')\n",
    "            elif n>=60 and n<70:\n",
    "             print('your grade marks:6')\n",
    "            elif n>=50 and n<60:\n",
    "             print('your grade marks:5')\n",
    "            elif n>=40 and n<50:\n",
    "             print('your grade marks:4')\n",
    "else:\n",
    "    print('fail')\n"
   ]
  }
 ],
 "metadata": {
  "kernelspec": {
   "display_name": "Python 3",
   "language": "python",
   "name": "python3"
  },
  "language_info": {
   "codemirror_mode": {
    "name": "ipython",
    "version": 3
   },
   "file_extension": ".py",
   "mimetype": "text/x-python",
   "name": "python",
   "nbconvert_exporter": "python",
   "pygments_lexer": "ipython3",
   "version": "3.7.3"
  }
 },
 "nbformat": 4,
 "nbformat_minor": 2
}
